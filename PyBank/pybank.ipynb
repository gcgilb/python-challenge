{
 "cells": [
  {
   "cell_type": "code",
   "execution_count": 21,
   "metadata": {},
   "outputs": [],
   "source": [
    "import pandas as pd\n",
    "import csv\n",
    "import numpy as nb"
   ]
  },
  {
   "cell_type": "code",
   "execution_count": 22,
   "metadata": {},
   "outputs": [
    {
     "data": {
      "text/html": [
       "<div>\n",
       "<style scoped>\n",
       "    .dataframe tbody tr th:only-of-type {\n",
       "        vertical-align: middle;\n",
       "    }\n",
       "\n",
       "    .dataframe tbody tr th {\n",
       "        vertical-align: top;\n",
       "    }\n",
       "\n",
       "    .dataframe thead th {\n",
       "        text-align: right;\n",
       "    }\n",
       "</style>\n",
       "<table border=\"1\" class=\"dataframe\">\n",
       "  <thead>\n",
       "    <tr style=\"text-align: right;\">\n",
       "      <th></th>\n",
       "      <th>Date</th>\n",
       "      <th>Revenue</th>\n",
       "    </tr>\n",
       "  </thead>\n",
       "  <tbody>\n",
       "    <tr>\n",
       "      <th>0</th>\n",
       "      <td>Jan-2009</td>\n",
       "      <td>943690</td>\n",
       "    </tr>\n",
       "    <tr>\n",
       "      <th>1</th>\n",
       "      <td>Feb-2009</td>\n",
       "      <td>1062565</td>\n",
       "    </tr>\n",
       "    <tr>\n",
       "      <th>2</th>\n",
       "      <td>Mar-2009</td>\n",
       "      <td>210079</td>\n",
       "    </tr>\n",
       "    <tr>\n",
       "      <th>3</th>\n",
       "      <td>Apr-2009</td>\n",
       "      <td>-735286</td>\n",
       "    </tr>\n",
       "    <tr>\n",
       "      <th>4</th>\n",
       "      <td>May-2009</td>\n",
       "      <td>842933</td>\n",
       "    </tr>\n",
       "  </tbody>\n",
       "</table>\n",
       "</div>"
      ],
      "text/plain": [
       "       Date  Revenue\n",
       "0  Jan-2009   943690\n",
       "1  Feb-2009  1062565\n",
       "2  Mar-2009   210079\n",
       "3  Apr-2009  -735286\n",
       "4  May-2009   842933"
      ]
     },
     "execution_count": 22,
     "metadata": {},
     "output_type": "execute_result"
    }
   ],
   "source": [
    "#import CSV file\n",
    "\n",
    "budget = \"budget_data_2.csv\"\n",
    "\n",
    "budget_df = pd.read_csv(budget)\n",
    "\n",
    "budget_df.head()"
   ]
  },
  {
   "cell_type": "code",
   "execution_count": 23,
   "metadata": {},
   "outputs": [],
   "source": [
    "\n",
    "Total = \"Total Months: \" + str(len(budget_df))\n",
    "\n"
   ]
  },
  {
   "cell_type": "code",
   "execution_count": 24,
   "metadata": {},
   "outputs": [
    {
     "data": {
      "text/plain": [
       "'Total Revenue: $36973911'"
      ]
     },
     "execution_count": 24,
     "metadata": {},
     "output_type": "execute_result"
    }
   ],
   "source": [
    "total_sum = budget_df[\"Revenue\"].sum()\n",
    "\n",
    "sum_revenue = \"Total Revenue: $\" + str(total_sum)\n",
    "\n",
    "sum_revenue"
   ]
  },
  {
   "cell_type": "code",
   "execution_count": 25,
   "metadata": {},
   "outputs": [
    {
     "data": {
      "text/plain": [
       "0    -118875.0\n",
       "1     852486.0\n",
       "2     945365.0\n",
       "3   -1578219.0\n",
       "4     484242.0\n",
       "Name: Revenue, dtype: float64"
      ]
     },
     "execution_count": 25,
     "metadata": {},
     "output_type": "execute_result"
    }
   ],
   "source": [
    "Change = budget_df[\"Revenue\"] - budget_df[\"Revenue\"].shift(-1)\n",
    "\n",
    "Change.head()"
   ]
  },
  {
   "cell_type": "code",
   "execution_count": 26,
   "metadata": {},
   "outputs": [
    {
     "data": {
      "text/html": [
       "<div>\n",
       "<style scoped>\n",
       "    .dataframe tbody tr th:only-of-type {\n",
       "        vertical-align: middle;\n",
       "    }\n",
       "\n",
       "    .dataframe tbody tr th {\n",
       "        vertical-align: top;\n",
       "    }\n",
       "\n",
       "    .dataframe thead th {\n",
       "        text-align: right;\n",
       "    }\n",
       "</style>\n",
       "<table border=\"1\" class=\"dataframe\">\n",
       "  <thead>\n",
       "    <tr style=\"text-align: right;\">\n",
       "      <th></th>\n",
       "      <th>Date</th>\n",
       "      <th>Revenue</th>\n",
       "      <th>Change</th>\n",
       "    </tr>\n",
       "  </thead>\n",
       "  <tbody>\n",
       "    <tr>\n",
       "      <th>0</th>\n",
       "      <td>Jan-2009</td>\n",
       "      <td>943690</td>\n",
       "      <td>-118875.0</td>\n",
       "    </tr>\n",
       "    <tr>\n",
       "      <th>1</th>\n",
       "      <td>Feb-2009</td>\n",
       "      <td>1062565</td>\n",
       "      <td>852486.0</td>\n",
       "    </tr>\n",
       "    <tr>\n",
       "      <th>2</th>\n",
       "      <td>Mar-2009</td>\n",
       "      <td>210079</td>\n",
       "      <td>945365.0</td>\n",
       "    </tr>\n",
       "    <tr>\n",
       "      <th>3</th>\n",
       "      <td>Apr-2009</td>\n",
       "      <td>-735286</td>\n",
       "      <td>-1578219.0</td>\n",
       "    </tr>\n",
       "    <tr>\n",
       "      <th>4</th>\n",
       "      <td>May-2009</td>\n",
       "      <td>842933</td>\n",
       "      <td>484242.0</td>\n",
       "    </tr>\n",
       "  </tbody>\n",
       "</table>\n",
       "</div>"
      ],
      "text/plain": [
       "       Date  Revenue     Change\n",
       "0  Jan-2009   943690  -118875.0\n",
       "1  Feb-2009  1062565   852486.0\n",
       "2  Mar-2009   210079   945365.0\n",
       "3  Apr-2009  -735286 -1578219.0\n",
       "4  May-2009   842933   484242.0"
      ]
     },
     "execution_count": 26,
     "metadata": {},
     "output_type": "execute_result"
    }
   ],
   "source": [
    "budget_df = budget_df.assign(Change=Change.values)\n",
    "\n",
    "\n",
    "budget_df.head()"
   ]
  },
  {
   "cell_type": "code",
   "execution_count": 27,
   "metadata": {},
   "outputs": [
    {
     "data": {
      "text/plain": [
       "'Greatest Increase in Revenue: May-2014 ($1947745)'"
      ]
     },
     "execution_count": 27,
     "metadata": {},
     "output_type": "execute_result"
    }
   ],
   "source": [
    "max_change = budget_df.loc[budget_df[\"Change\"].idxmax()]\n",
    " \n",
    "Date = max_change[\"Date\"]\n",
    "Change = max_change[\"Change\"]\n",
    "x = int(Change)\n",
    "\n",
    "max = \"Greatest Increase in Revenue: \" + str(Date) + \" ($\" + str(x) + \")\"\n",
    "max"
   ]
  },
  {
   "cell_type": "code",
   "execution_count": 28,
   "metadata": {},
   "outputs": [
    {
     "data": {
      "text/plain": [
       "'Greatest Decrease in Revenue: Jun-2014 ($-1645140)'"
      ]
     },
     "execution_count": 28,
     "metadata": {},
     "output_type": "execute_result"
    }
   ],
   "source": [
    "min_change = budget_df.loc[budget_df[\"Change\"].idxmin()]\n",
    " \n",
    "Date = min_change[\"Date\"]\n",
    "Change = min_change[\"Change\"]\n",
    "x = int(Change)\n",
    "\n",
    "min = \"Greatest Decrease in Revenue: \" + str(Date) + \" ($\" + str(x) + \")\"\n",
    "min"
   ]
  },
  {
   "cell_type": "code",
   "execution_count": 29,
   "metadata": {},
   "outputs": [
    {
     "data": {
      "text/plain": [
       "'Average Revenue Change: $5955'"
      ]
     },
     "execution_count": 29,
     "metadata": {},
     "output_type": "execute_result"
    }
   ],
   "source": [
    "avg = budget_df[\"Change\"].mean()\n",
    "\n",
    "avg = int(avg)\n",
    "\n",
    "out = \"Average Revenue Change: $\" + str(avg)\n",
    "\n",
    "out\n"
   ]
  },
  {
   "cell_type": "code",
   "execution_count": 30,
   "metadata": {},
   "outputs": [
    {
     "data": {
      "text/plain": [
       "'Financial Analysis'"
      ]
     },
     "execution_count": 30,
     "metadata": {},
     "output_type": "execute_result"
    }
   ],
   "source": [
    "\"Financial Analysis\" \n",
    "\n"
   ]
  },
  {
   "cell_type": "code",
   "execution_count": 37,
   "metadata": {},
   "outputs": [
    {
     "name": "stdout",
     "output_type": "stream",
     "text": [
      "Financial Analysis\n",
      "---------------------------------------------------\n",
      "Total Months: 86\n",
      "Total Revenue: $36973911\n",
      "Greatest Increase in Revenue: May-2014 ($1947745)\n",
      "Greatest Decrease in Revenue: Jun-2014 ($-1645140)\n"
     ]
    }
   ],
   "source": [
    "print(\"Financial Analysis\") \n",
    "print(\"---------------------------------------------------\")\n",
    "\n",
    "print (Total)\n",
    "print (sum_revenue)\n",
    "print (max)\n",
    "print (min)"
   ]
  },
  {
   "cell_type": "code",
   "execution_count": null,
   "metadata": {},
   "outputs": [],
   "source": [
    "\n",
    "\n"
   ]
  },
  {
   "cell_type": "code",
   "execution_count": null,
   "metadata": {},
   "outputs": [],
   "source": []
  }
 ],
 "metadata": {
  "kernelspec": {
   "display_name": "Python 3",
   "language": "python",
   "name": "python3"
  },
  "language_info": {
   "codemirror_mode": {
    "name": "ipython",
    "version": 3
   },
   "file_extension": ".py",
   "mimetype": "text/x-python",
   "name": "python",
   "nbconvert_exporter": "python",
   "pygments_lexer": "ipython3",
   "version": "3.6.4"
  }
 },
 "nbformat": 4,
 "nbformat_minor": 2
}
